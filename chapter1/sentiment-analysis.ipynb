{
 "cells": [
  {
   "cell_type": "code",
   "execution_count": null,
   "metadata": {},
   "outputs": [],
   "source": [
    "!pip install vaderSentiment\n",
    "\n",
    "import nltk \n",
    "nltk.download('vader_lexicon')\n",
    "\n",
    "from nltk.sentiment import SentimentIntensityAnalyzer \n",
    "\n",
    "sia = SentimentIntensityAnalyzer() \n",
    "text = \"I really enjoyed the new movie. The acting was great and the plot was engaging.\" \n",
    "scores = sia.polarity_scores(text) \n",
    "print(scores) "
   ]
  }
 ],
 "metadata": {
  "language_info": {
   "name": "python"
  },
  "orig_nbformat": 4
 },
 "nbformat": 4,
 "nbformat_minor": 2
}
